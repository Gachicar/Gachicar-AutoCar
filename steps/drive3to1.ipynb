{
 "cells": [
  {
   "cell_type": "markdown",
   "metadata": {},
   "source": [
    "# 3/17\n",
    "- 대폭 바꿔본 테스트 코드..\n",
    "- 오오오오 잘 된다!!!! : 의자 보고 잠시 멈추고 도착 알림. 종료하면 멈추고 정상적으로 종료함."
   ]
  },
  {
   "cell_type": "code",
   "execution_count": null,
   "metadata": {},
   "outputs": [],
   "source": []
  },
  {
   "cell_type": "code",
   "execution_count": 1,
   "metadata": {},
   "outputs": [
    {
     "name": "stdout",
     "output_type": "stream",
     "text": [
      "Load completed.\n"
     ]
    },
    {
     "data": {
      "application/vnd.jupyter.widget-view+json": {
       "model_id": "0bd9c8e47243488999511dbd58120268",
       "version_major": 2,
       "version_minor": 0
      },
      "text/plain": [
       "Image(value=b'', format='jpeg', height='300', width='300')"
      ]
     },
     "metadata": {},
     "output_type": "display_data"
    },
    {
     "data": {
      "application/vnd.jupyter.widget-view+json": {
       "model_id": "963cc9e5aaf149cc9a6efef4c0a4f68c",
       "version_major": 2,
       "version_minor": 0
      },
      "text/plain": [
       "Image(value=b'', format='jpeg', height='300', width='300')"
      ]
     },
     "metadata": {},
     "output_type": "display_data"
    },
    {
     "data": {
      "application/vnd.jupyter.widget-view+json": {
       "model_id": "c2f21c64517441af877a2e8b93c04301",
       "version_major": 2,
       "version_minor": 0
      },
      "text/plain": [
       "HBox(children=(Image(value=b'\\xff\\xd8\\xff\\xe0\\x00\\x10JFIF\\x00\\x01\\x01\\x00\\x00\\x01\\x00\\x01\\x00\\x00\\xff\\xdb\\x00C…"
      ]
     },
     "metadata": {},
     "output_type": "display_data"
    }
   ],
   "source": [
    "import threading\n",
    "from socket import *\n",
    "import time\n",
    "from pop import Pilot\n",
    "\n",
    "cam = Pilot.Camera(width=300, height=300)\n",
    "ac = Pilot.AutoCar()\n",
    "OF = Pilot.Object_Follow(cam)\n",
    "LF = Pilot.Track_Follow(camera=cam)\n",
    "CA = Pilot.Collision_Avoid(cam)\n",
    "\n",
    "# 저장된 모델 3개를 불러오기\n",
    "LF.load_model(\"line_tracer_0313_2.pth\") # 라인트래킹 모델 로드\n",
    "OF.load_model() # 객체 인식 모델 불러오기 (\"ssd_mobilenet_v2_coco.engine\"를 자동으로 불러옴)\n",
    "CA.load_model(\"collision_final.pth\") # 장애물 회피 모델 로드\n",
    "\n",
    "LF.show()\n",
    "OF.show()\n",
    "CA.show()\n",
    "\n",
    "LF.run()\n",
    "CA.run()\n",
    "\n",
    "steering_correction = 0.05\n",
    "ac.setSpeed(0)"
   ]
  },
  {
   "cell_type": "code",
   "execution_count": 2,
   "metadata": {},
   "outputs": [],
   "source": [
    "# RC카 서버의 IP 주소와 포트 번호\n",
    "host = ''\n",
    "port = 9851\n",
    "\n",
    "block = 0\n",
    "check = 0\n",
    "destination = None\n",
    "arrived = None\n",
    "dest = {1: '집', 2: '회사', 3: '학교'}\n",
    "\n",
    "def drive(LF_value, CA_value, OF_chair):   # value는 라인 트래킹 value값, value2는 장애물 회피 value값\n",
    "    global arrived, check\n",
    "    \n",
    "    if check == 1:  # 주행을 수행\n",
    "        if OF_chair is not None:  # 목적지에 도착했을 때\n",
    "            if OF_chair.get('size_rate', 0) >= 0.2:\n",
    "                print(\"의자 감지\", OF_chair.get('size_rate', 0))\n",
    "                arrived = 1\n",
    "                \n",
    "        # 목적지에 도착하지 않았을 때\n",
    "        ac.setSpeed(10)\n",
    "        ac.forward()\n",
    "        steer = LF_value['x']\n",
    "        \n",
    "        # 라인트랙킹을 위한 좌우 조정 (value를 사용)\n",
    "        if steer > 1:\n",
    "            steer = 1\n",
    "        elif steer < -1:\n",
    "            steer = -1\n",
    "        \n",
    "        ac.steering = steer * 1.5\n",
    "        \n",
    "        # 장애물 인식 후 후진하게 하는 코드(value2를 사용)\n",
    "        if CA_value >= 0.5:    # 0.5 초과 시 후진\n",
    "            ac.backward()\n",
    "\n",
    "\n",
    "def cardrive():\n",
    "    global CA, LF, OF, check, destination, arrived\n",
    "    print(\"----------Cardrive: Autonomous Driving----------\")\n",
    "    while True:\n",
    "        v1 = LF.run()\n",
    "        v2 = CA.run()\n",
    "        v3 = OF.detect(index='chair')\n",
    "#         v4 = OF.detect(index='person')\n",
    "        drive(v1, v2, v3)\n",
    "        if check == -1 or arrived:\n",
    "            ac.stop()\n",
    "            print(\"-----------------주행 종료-----------------\")\n",
    "            break\n",
    "                \n",
    "\n",
    "def send(sock):\n",
    "    global check, block, arrived, dest\n",
    "    carStatus = {'종료': 0, '시작': 4, '정지': 5, '장애물 감지': 6, '정상 주행 중': 7}\n",
    "    \n",
    "    while True:\n",
    "        if check == 0:\n",
    "            print(\"정지 중\")\n",
    "            time.sleep(1)\n",
    "            sendData = carStatus[\"정지\"]\n",
    "        elif check == 1 and block == 2:\n",
    "            print(\"장애물 감지\")\n",
    "            time.sleep(3)\n",
    "            sendData = carStatus[\"장애물 감지\"]\n",
    "            sock.send(sendData.to_bytes(4, byteorder=\"big\"))\n",
    "        elif check == 1 and block == 0:\n",
    "            if arrived is not None:\n",
    "                print(f\"{dest[arrived]}로 이동 완료\")\n",
    "                sendData = arrived\n",
    "                sock.send(sendData.to_bytes(4, byteorder=\"big\"))\n",
    "                arrived = None\n",
    "                time.sleep(3)\n",
    "                check = 0\n",
    "            else:\n",
    "                time.sleep(10)\n",
    "                sendData = carStatus[\"정상 주행 중\"]\n",
    "                sock.send(sendData.to_bytes(4, byteorder=\"big\"))\n",
    "\n",
    "def receive(sock):\n",
    "    global check\n",
    "    while True:\n",
    "        data = sock.recv(1024)\n",
    "        command = data.decode(\"utf-8\").strip()\n",
    "        print(command)\n",
    "        if command == \"시작\":\n",
    "            check = 1\n",
    "            print(\"주행을 시작합니다.\")\n",
    "        elif command in dest.values():\n",
    "            check = 1\n",
    "            destination = 1 if command == '집' else (2 if command == '회사' else (3 if command == '학교' else None))\n",
    "            print(f\"{command}으로 이동합니다.\")\n",
    "        elif command == \"종료\":\n",
    "            check = -1\n",
    "            print(\"주행을 종료합니다.\")\n",
    "            break\n",
    "        elif command == \"정지\":\n",
    "            print(\"정지합니다.\")\n",
    "            ac.setSpeed(0)\n",
    "            check = 0\n",
    "        elif command.isdigit():\n",
    "            speed = int(command)\n",
    "            ac.setSpeed(speed)\n",
    "            print(\"속도\", speed)\n",
    "\n",
    "def handle_client(client_sock):\n",
    "    try:\n",
    "        sender = threading.Thread(target=send, args=(client_sock,))\n",
    "        receiver = threading.Thread(target=receive, args=(client_sock,))\n",
    "        driver = threading.Thread(target=cardrive)\n",
    "\n",
    "        sender.start()\n",
    "        receiver.start()\n",
    "\n",
    "        cnt = 0\n",
    "        while True:\n",
    "            # time.sleep(1)\n",
    "            if cnt == 0:\n",
    "                print(\"차량 주행 시작\")\n",
    "                driver.start()\n",
    "                cnt = 1\n",
    "            if check == -1:\n",
    "                ac.stop()\n",
    "                print(\"-----------------종료-----------------\")\n",
    "                cnt = 0\n",
    "                break\n",
    "    finally:\n",
    "        # 클라이언트 소켓이 닫히면 해당 IP와의 소켓 연결이 정상적으로 해제됨을 알림\n",
    "        print(\"연결이 종료되었습니다:\", client_sock.getpeername())\n",
    "        client_sock.close()\n",
    "\n",
    "def accept_clients(server_sock):\n",
    "    while True:\n",
    "        client_sock, addr = server_sock.accept()\n",
    "        print(addr, \"와 연결완료\")\n",
    "        threading.Thread(target=handle_client, args=(client_sock,)).start()\n"
   ]
  },
  {
   "cell_type": "code",
   "execution_count": null,
   "metadata": {},
   "outputs": [
    {
     "name": "stdout",
     "output_type": "stream",
     "text": [
      "연결을 기다리는 중\n",
      "('192.168.0.5', 54823) 와 연결완료\n",
      "정지 중차량 주행 시작\n",
      "\n",
      "----------Cardrive: Autonomous Driving----------\n",
      "정지 중\n",
      "정지 중\n",
      "정지 중\n",
      "정지 중\n",
      "집\n",
      "집으로 이동합니다.\n",
      "----------drive: 차량 주행 코드----------\n",
      "----------drive: 차량 주행 코드----------\n",
      "----------drive: 차량 주행 코드----------\n",
      "----------drive: 차량 주행 코드----------\n",
      "----------drive: 차량 주행 코드----------\n",
      "----------drive: 차량 주행 코드----------\n",
      "----------drive: 차량 주행 코드----------\n",
      "----------drive: 차량 주행 코드----------\n",
      "----------drive: 차량 주행 코드----------\n",
      "----------drive: 차량 주행 코드----------\n",
      "----------drive: 차량 주행 코드----------\n",
      "----------drive: 차량 주행 코드----------\n"
     ]
    }
   ],
   "source": [
    "try:\n",
    "    server_sock = socket(AF_INET, SOCK_STREAM)\n",
    "    server_sock.bind((host, port))\n",
    "    server_sock.listen(10)\n",
    "    print(\"연결을 기다리는 중\")\n",
    "    accept_clients(server_sock)\n",
    "\n",
    "except OSError as e:\n",
    "    print(e)\n",
    "    print(\"연결 오류\")\n",
    "    server_sock.close()\n",
    "except Exception as e:\n",
    "    print(e)\n",
    "finally:\n",
    "    server_sock.close()"
   ]
  },
  {
   "cell_type": "code",
   "execution_count": null,
   "metadata": {},
   "outputs": [],
   "source": []
  }
 ],
 "metadata": {
  "kernelspec": {
   "display_name": "Python 3",
   "language": "python",
   "name": "python3"
  },
  "language_info": {
   "codemirror_mode": {
    "name": "ipython",
    "version": 3
   },
   "file_extension": ".py",
   "mimetype": "text/x-python",
   "name": "python",
   "nbconvert_exporter": "python",
   "pygments_lexer": "ipython3",
   "version": "3.6.9"
  }
 },
 "nbformat": 4,
 "nbformat_minor": 4
}
