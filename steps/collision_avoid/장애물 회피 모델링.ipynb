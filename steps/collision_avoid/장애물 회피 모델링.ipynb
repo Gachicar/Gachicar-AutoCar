{
 "cells": [
  {
   "cell_type": "code",
   "execution_count": 1,
   "metadata": {},
   "outputs": [
    {
     "data": {
      "application/vnd.jupyter.widget-view+json": {
       "model_id": "e15be534a2a24a8986a270500e9a058d",
       "version_major": 2,
       "version_minor": 0
      },
      "text/plain": [
       "Label(value='Loading datasets...')"
      ]
     },
     "metadata": {},
     "output_type": "display_data"
    },
    {
     "data": {
      "application/vnd.jupyter.widget-view+json": {
       "model_id": "98e60bb602b44e19a31107e8663ad172",
       "version_major": 2,
       "version_minor": 0
      },
      "text/plain": [
       "Label(value='Creating a new model...')"
      ]
     },
     "metadata": {},
     "output_type": "display_data"
    },
    {
     "data": {
      "application/vnd.jupyter.widget-view+json": {
       "model_id": "21054c883a844cac8c34c7016228ba0b",
       "version_major": 2,
       "version_minor": 0
      },
      "text/plain": [
       "VBox(children=(HBox(children=(FloatProgress(value=0.0, description='Total'), Label(value='0%'))), HBox(childre…"
      ]
     },
     "metadata": {},
     "output_type": "display_data"
    },
    {
     "name": "stdout",
     "output_type": "stream",
     "text": [
      "0  step accuracy : 100.0%\n",
      "1  step accuracy : 100.0%\n",
      "2  step accuracy : 100.0%\n",
      "3  step accuracy : 100.0%\n",
      "4  step accuracy : 100.0%\n",
      "5  step accuracy : 100.0%\n",
      "6  step accuracy : 100.0%\n",
      "7  step accuracy : 100.0%\n",
      "8  step accuracy : 100.0%\n",
      "9  step accuracy : 100.0%\n",
      "Save completed.\n"
     ]
    }
   ],
   "source": [
    "# 장애물 회피를 하기 위한 모델을 학습 시키는 코드입니다. \n",
    "from pop import Pilot\n",
    "\n",
    "cam=Pilot.Camera(width=300, height=300)\n",
    "\n",
    "# 장애물 회피 모델링 \n",
    "CA=Pilot.Collision_Avoid(cam)  # 클래스 생성\n",
    "CA.load_datasets(\"../collision_dataset\")   # 데이터셋 로드\n",
    "CA.train(times=10)   # 학습 (우선 10회)\n",
    "CA.save_model(path=\"collision_avoid_model.pth\") # collision이라는 이름의 장애물 회피 모델 생성 \n",
    "\n",
    "# 장애물 회피 모델 학습 시킨거 불러와서 회피 되는지 확인하기 \n",
    "# CA.load_model(\"collision_1204_2.pth\") # collision 장애물 회피 모델 불러오기 \n",
    "# CA.show()\n",
    "\n",
    "# Car=Pilot.AutoCar()\n",
    "# Car.setSpeed(50)\n",
    "\n",
    "# def drive(value):\n",
    "#     if value<=0.5 : # 모델 예측값이 0.5 이하면 전진\n",
    "#         Car.steering=0\n",
    "#         Car.forward()\n",
    "#     else:    # 0.5 초과 시 우측으로 후진\n",
    "#         Car.steering=1\n",
    "#         Car.backward()\n",
    "        \n",
    "# while True:\n",
    "#     CA.run(callback=drive)    "
   ]
  },
  {
   "cell_type": "code",
   "execution_count": null,
   "metadata": {},
   "outputs": [],
   "source": []
  }
 ],
 "metadata": {
  "kernelspec": {
   "display_name": "Python 3",
   "language": "python",
   "name": "python3"
  },
  "language_info": {
   "codemirror_mode": {
    "name": "ipython",
    "version": 3
   },
   "file_extension": ".py",
   "mimetype": "text/x-python",
   "name": "python",
   "nbconvert_exporter": "python",
   "pygments_lexer": "ipython3",
   "version": "3.6.9"
  }
 },
 "nbformat": 4,
 "nbformat_minor": 4
}
