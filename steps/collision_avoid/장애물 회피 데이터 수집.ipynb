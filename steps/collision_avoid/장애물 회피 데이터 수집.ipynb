{
 "cells": [
  {
   "cell_type": "code",
   "execution_count": 1,
   "metadata": {},
   "outputs": [
    {
     "data": {
      "application/vnd.jupyter.widget-view+json": {
       "model_id": "1f3707760d154fe09c28672f25265041",
       "version_major": 2,
       "version_minor": 0
      },
      "text/plain": [
       "Image(value=b'\\xff\\xd8\\xff\\xe0\\x00\\x10JFIF\\x00\\x01\\x01\\x00\\x00\\x01\\x00\\x01\\x00\\x00\\xff\\xdb\\x00C\\x00\\x02\\x01\\x0…"
      ]
     },
     "metadata": {},
     "output_type": "display_data"
    }
   ],
   "source": [
    "# 장애물 회피 데이터 수집 코드\n",
    "from pop import Pilot\n",
    "\n",
    "cam=Pilot.Camera(width=300, height=300)\n",
    "cam.show()"
   ]
  },
  {
   "cell_type": "code",
   "execution_count": 2,
   "metadata": {},
   "outputs": [],
   "source": [
    "cam.stop()"
   ]
  },
  {
   "cell_type": "code",
   "execution_count": 3,
   "metadata": {},
   "outputs": [],
   "source": [
    "dataCollector=Pilot.Data_Collector(Pilot.Collision_Avoid, camera=cam)"
   ]
  },
  {
   "cell_type": "code",
   "execution_count": 4,
   "metadata": {},
   "outputs": [
    {
     "data": {
      "application/vnd.jupyter.widget-view+json": {
       "model_id": "1f3707760d154fe09c28672f25265041",
       "version_major": 2,
       "version_minor": 0
      },
      "text/plain": [
       "Image(value=b'\\xff\\xd8\\xff\\xe0\\x00\\x10JFIF\\x00\\x01\\x01\\x00\\x00\\x01\\x00\\x01\\x00\\x00\\xff\\xdb\\x00C\\x00\\x02\\x01\\x0…"
      ]
     },
     "metadata": {},
     "output_type": "display_data"
    },
    {
     "data": {
      "application/vnd.jupyter.widget-view+json": {
       "model_id": "c984ae62ad0f47f98410db9495a97a1b",
       "version_major": 2,
       "version_minor": 0
      },
      "text/plain": [
       "HBox(children=(IntText(value=214, layout=Layout(height='64px', width='128px')), Button(button_style='success',…"
      ]
     },
     "metadata": {},
     "output_type": "display_data"
    },
    {
     "data": {
      "application/vnd.jupyter.widget-view+json": {
       "model_id": "863bf4dac5be48fcb217f2dca5d51bcd",
       "version_major": 2,
       "version_minor": 0
      },
      "text/plain": [
       "HBox(children=(IntText(value=41, layout=Layout(height='64px', width='128px')), Button(button_style='danger', d…"
      ]
     },
     "metadata": {},
     "output_type": "display_data"
    },
    {
     "data": {
      "text/html": [
       "<style>.joystick_focused{ cursor:grabbing !important;}    .joystick_background{user-select: none;        background: #fff3f3;        border: 1px solid #ffa29e;        border-radius: 50%;        height: 12em;        width: 12em;    margin:2.5em;}    .joystick_stick{cursor:grab; user-select: none;        background: #F74138;        border-radius: 50%;        box-shadow: 0.375em 0.375em 0 0 rgba(15, 28, 63, 0.125);        height: 5em;        width: 5em;        transform: translate(50%,50%);    }</style><div><div id=\"joystick_background_3D37E969E9863E\" class=\"joystick_background\">    <div id=\"joystick_stick_3D37E969E9863E\" class=\"joystick_stick\" style=\"position:absolute\" onmousedown=\"start_joystick_3D37E969E9863E(this); joystick_focus_3D37E969E9863E(this);\" ondrag=\"joystick_3D37E969E9863E(e)\" onmouseup=\"reset_joystick_3D37E969E9863E(this); joystick_disfocus_3D37E969E9863E(this);\"></div></div></div><script> X=0; Y=0; function joystick_focus_3D37E969E9863E(e){ e.classList.add(\"joystick_focused\");} function joystick_disfocus_3D37E969E9863E(e){ e.classList.remove(\"joystick_focused\");}    var port_3D37E969E9863E=8886;    var sock_3D37E969E9863E=new WebSocket(\"ws://\"+window.location.hostname+\":\"+port_3D37E969E9863E);    var sw_3D37E969E9863E=false;    var preX_3D37E969E9863E, preY_3D37E969E9863E, X_3D37E969E9863E, Y_3D37E969E9863E, nX_3D37E969E9863E, nY_3D37E969E9863E;    var back_3D37E969E9863E=document.getElementById(\"joystick_background_3D37E969E9863E\");    var stick_3D37E969E9863E=document.getElementById(\"joystick_stick_3D37E969E9863E\");    var back_width_3D37E969E9863E=back_3D37E969E9863E.offsetWidth;    var back_height_3D37E969E9863E=back_3D37E969E9863E.offsetHeight;    var stick_width_3D37E969E9863E=stick_3D37E969E9863E.offsetWidth;    var stick_height_3D37E969E9863E=stick_3D37E969E9863E.offsetHeight;  intlog_3D37E969E9863E=Date.now();  setInterval(()=>{try{if (parseFloat(sX_3D37E969E9863E)==0 && parseFloat(sY_3D37E969E9863E)==0) {if (Date.now()-intlog_3D37E969E9863E<500) sock_3D37E969E9863E.send(\"j,\" + sX_3D37E969E9863E + \",\" + sY_3D37E969E9863E);}else{ sock_3D37E969E9863E.send(\"j,\" + sX_3D37E969E9863E + \",\" + sY_3D37E969E9863E); intlog_3D37E969E9863E=Date.now();}}catch{console.log(\"Waiting to connect...\");}},50); function move_3D37E969E9863E(evt){        X=evt.clientX;        Y=evt.clientY;        if(sw_3D37E969E9863E){            nX_3D37E969E9863E+=X-preX_3D37E969E9863E;            nY_3D37E969E9863E+=Y-preY_3D37E969E9863E;            preX_3D37E969E9863E=X;            preY_3D37E969E9863E=Y;            if (nX_3D37E969E9863E>back_width_3D37E969E9863E-stick_width_3D37E969E9863E/2) nX_3D37E969E9863E=back_width_3D37E969E9863E-stick_width_3D37E969E9863E/2;            else if (nX_3D37E969E9863E<-stick_width_3D37E969E9863E/2) nX_3D37E969E9863E=-stick_width_3D37E969E9863E/2;            if (nY_3D37E969E9863E>back_height_3D37E969E9863E-stick_height_3D37E969E9863E/2) nY_3D37E969E9863E=back_height_3D37E969E9863E-stick_height_3D37E969E9863E/2;            else if (nY_3D37E969E9863E<-stick_height_3D37E969E9863E/2) nY_3D37E969E9863E=-stick_height_3D37E969E9863E/2;            sX_3D37E969E9863E=(nX_3D37E969E9863E+stick_width_3D37E969E9863E/2-back_width_3D37E969E9863E/2)/(back_width_3D37E969E9863E/2);            sY_3D37E969E9863E=-(nY_3D37E969E9863E+stick_height_3D37E969E9863E/2-back_height_3D37E969E9863E/2)/(back_height_3D37E969E9863E/2);                        /*sock_3D37E969E9863E.send(\"j,\"+sX_3D37E969E9863E+\",\"+sY_3D37E969E9863E);*/            stick_3D37E969E9863E.style.transform=\"translate(\"+nX_3D37E969E9863E+\"px,\"+nY_3D37E969E9863E+\"px)\";        }    };    function up_3D37E969E9863E(){joystick_disfocus_3D37E969E9863E(stick_3D37E969E9863E);        if(sw_3D37E969E9863E){            sw_3D37E969E9863E=false;            reset_joystick_3D37E969E9863E(stick_3D37E969E9863E);        }    };    function start_joystick_3D37E969E9863E(e){window.onmousemove=move_3D37E969E9863E; window.onmouseup=up_3D37E969E9863E;        preX_3D37E969E9863E=X;        preY_3D37E969E9863E=Y;        sw_3D37E969E9863E=true;    }    function joystick_3D37E969E9863E(e){        nX_3D37E969E9863E+=X-preX_3D37E969E9863E;        nY_3D37E969E9863E+=Y-preY_3D37E969E9863E;        preX_3D37E969E9863E=X;        preY_3D37E969E9863E=Y;        if (nX_3D37E969E9863E>back_width_3D37E969E9863E-stick_width_3D37E969E9863E/2) nX_3D37E969E9863E=back_width_3D37E969E9863E-stick_width_3D37E969E9863E/2;        else if (nX_3D37E969E9863E<-stick_width_3D37E969E9863E/2) nX_3D37E969E9863E=-stick_width_3D37E969E9863E/2;        if (nY_3D37E969E9863E>back_height_3D37E969E9863E-stick_height_3D37E969E9863E/2) nY_3D37E969E9863E=back_height_3D37E969E9863E-stick_height_3D37E969E9863E/2;        else if (nY_3D37E969E9863E<-stick_height_3D37E969E9863E/2) nY_3D37E969E9863E=-stick_height_3D37E969E9863E/2;                e.style.transform=\"translate(\"+nX_3D37E969E9863E+\"px,\"+nY_3D37E969E9863E+\"px)\";    }    function reset_joystick_3D37E969E9863E(e){        sw_3D37E969E9863E=false;        nX_3D37E969E9863E = back_width_3D37E969E9863E/2 - stick_width_3D37E969E9863E/2;        nY_3D37E969E9863E = back_height_3D37E969E9863E/2 - stick_height_3D37E969E9863E/2;        e.style.transform=\"translate(\"+nX_3D37E969E9863E+\"px,\"+nY_3D37E969E9863E+\"px)\"; sX_3D37E969E9863E=\"0\"; sY_3D37E969E9863E=\"0\"; sock_3D37E969E9863E.send(\"j,0,0\");    }    reset_joystick_3D37E969E9863E(stick_3D37E969E9863E); console.log(\"Loaded.\");</script>"
      ],
      "text/plain": [
       "<IPython.core.display.HTML object>"
      ]
     },
     "metadata": {},
     "output_type": "display_data"
    }
   ],
   "source": [
    "dataCollector.show()"
   ]
  }
 ],
 "metadata": {
  "kernelspec": {
   "display_name": "Python 3",
   "language": "python",
   "name": "python3"
  },
  "language_info": {
   "codemirror_mode": {
    "name": "ipython",
    "version": 3
   },
   "file_extension": ".py",
   "mimetype": "text/x-python",
   "name": "python",
   "nbconvert_exporter": "python",
   "pygments_lexer": "ipython3",
   "version": "3.6.9"
  }
 },
 "nbformat": 4,
 "nbformat_minor": 4
}
