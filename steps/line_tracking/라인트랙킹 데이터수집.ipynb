{
 "cells": [
  {
   "cell_type": "code",
   "execution_count": 1,
   "metadata": {},
   "outputs": [
    {
     "data": {
      "application/vnd.jupyter.widget-view+json": {
       "model_id": "2e7c49fefad54f8aad0c5112bc49d377",
       "version_major": 2,
       "version_minor": 0
      },
      "text/plain": [
       "HBox(children=(Image(value=b'\\xff\\xd8\\xff\\xe0\\x00\\x10JFIF\\x00\\x01\\x01\\x00\\x00\\x01\\x00\\x01\\x00\\x00\\xff\\xdb\\x00C…"
      ]
     },
     "metadata": {},
     "output_type": "display_data"
    },
    {
     "data": {
      "application/vnd.jupyter.widget-view+json": {
       "model_id": "f02111871db54461bc95d6c9bdfc61ad",
       "version_major": 2,
       "version_minor": 0
      },
      "text/plain": [
       "ToggleButton(value=False, button_style='danger', description='Auto Collect', tooltip='Automatically collects d…"
      ]
     },
     "metadata": {},
     "output_type": "display_data"
    },
    {
     "data": {
      "text/html": [
       "<style>.joystick_focused{ cursor:grabbing !important;}    .joystick_background{user-select: none;        background: #fff3f3;        border: 1px solid #ffa29e;        border-radius: 50%;        height: 12em;        width: 12em;    margin:2.5em;}    .joystick_stick{cursor:grab; user-select: none;        background: #F74138;        border-radius: 50%;        box-shadow: 0.375em 0.375em 0 0 rgba(15, 28, 63, 0.125);        height: 5em;        width: 5em;        transform: translate(50%,50%);    }</style><div><div id=\"joystick_background_52360F06487A30\" class=\"joystick_background\">    <div id=\"joystick_stick_52360F06487A30\" class=\"joystick_stick\" style=\"position:absolute\" onmousedown=\"start_joystick_52360F06487A30(this); joystick_focus_52360F06487A30(this);\" ondrag=\"joystick_52360F06487A30(e)\" onmouseup=\"reset_joystick_52360F06487A30(this); joystick_disfocus_52360F06487A30(this);\"></div></div></div><script> X=0; Y=0; function joystick_focus_52360F06487A30(e){ e.classList.add(\"joystick_focused\");} function joystick_disfocus_52360F06487A30(e){ e.classList.remove(\"joystick_focused\");}    var port_52360F06487A30=8886;    var sock_52360F06487A30=new WebSocket(\"ws://\"+window.location.hostname+\":\"+port_52360F06487A30);    var sw_52360F06487A30=false;    var preX_52360F06487A30, preY_52360F06487A30, X_52360F06487A30, Y_52360F06487A30, nX_52360F06487A30, nY_52360F06487A30;    var back_52360F06487A30=document.getElementById(\"joystick_background_52360F06487A30\");    var stick_52360F06487A30=document.getElementById(\"joystick_stick_52360F06487A30\");    var back_width_52360F06487A30=back_52360F06487A30.offsetWidth;    var back_height_52360F06487A30=back_52360F06487A30.offsetHeight;    var stick_width_52360F06487A30=stick_52360F06487A30.offsetWidth;    var stick_height_52360F06487A30=stick_52360F06487A30.offsetHeight;  intlog_52360F06487A30=Date.now();  setInterval(()=>{try{if (parseFloat(sX_52360F06487A30)==0 && parseFloat(sY_52360F06487A30)==0) {if (Date.now()-intlog_52360F06487A30<500) sock_52360F06487A30.send(\"j,\" + sX_52360F06487A30 + \",\" + sY_52360F06487A30);}else{ sock_52360F06487A30.send(\"j,\" + sX_52360F06487A30 + \",\" + sY_52360F06487A30); intlog_52360F06487A30=Date.now();}}catch{console.log(\"Waiting to connect...\");}},50); function move_52360F06487A30(evt){        X=evt.clientX;        Y=evt.clientY;        if(sw_52360F06487A30){            nX_52360F06487A30+=X-preX_52360F06487A30;            nY_52360F06487A30+=Y-preY_52360F06487A30;            preX_52360F06487A30=X;            preY_52360F06487A30=Y;            if (nX_52360F06487A30>back_width_52360F06487A30-stick_width_52360F06487A30/2) nX_52360F06487A30=back_width_52360F06487A30-stick_width_52360F06487A30/2;            else if (nX_52360F06487A30<-stick_width_52360F06487A30/2) nX_52360F06487A30=-stick_width_52360F06487A30/2;            if (nY_52360F06487A30>back_height_52360F06487A30-stick_height_52360F06487A30/2) nY_52360F06487A30=back_height_52360F06487A30-stick_height_52360F06487A30/2;            else if (nY_52360F06487A30<-stick_height_52360F06487A30/2) nY_52360F06487A30=-stick_height_52360F06487A30/2;            sX_52360F06487A30=(nX_52360F06487A30+stick_width_52360F06487A30/2-back_width_52360F06487A30/2)/(back_width_52360F06487A30/2);            sY_52360F06487A30=-(nY_52360F06487A30+stick_height_52360F06487A30/2-back_height_52360F06487A30/2)/(back_height_52360F06487A30/2);                        /*sock_52360F06487A30.send(\"j,\"+sX_52360F06487A30+\",\"+sY_52360F06487A30);*/            stick_52360F06487A30.style.transform=\"translate(\"+nX_52360F06487A30+\"px,\"+nY_52360F06487A30+\"px)\";        }    };    function up_52360F06487A30(){joystick_disfocus_52360F06487A30(stick_52360F06487A30);        if(sw_52360F06487A30){            sw_52360F06487A30=false;            reset_joystick_52360F06487A30(stick_52360F06487A30);        }    };    function start_joystick_52360F06487A30(e){window.onmousemove=move_52360F06487A30; window.onmouseup=up_52360F06487A30;        preX_52360F06487A30=X;        preY_52360F06487A30=Y;        sw_52360F06487A30=true;    }    function joystick_52360F06487A30(e){        nX_52360F06487A30+=X-preX_52360F06487A30;        nY_52360F06487A30+=Y-preY_52360F06487A30;        preX_52360F06487A30=X;        preY_52360F06487A30=Y;        if (nX_52360F06487A30>back_width_52360F06487A30-stick_width_52360F06487A30/2) nX_52360F06487A30=back_width_52360F06487A30-stick_width_52360F06487A30/2;        else if (nX_52360F06487A30<-stick_width_52360F06487A30/2) nX_52360F06487A30=-stick_width_52360F06487A30/2;        if (nY_52360F06487A30>back_height_52360F06487A30-stick_height_52360F06487A30/2) nY_52360F06487A30=back_height_52360F06487A30-stick_height_52360F06487A30/2;        else if (nY_52360F06487A30<-stick_height_52360F06487A30/2) nY_52360F06487A30=-stick_height_52360F06487A30/2;                e.style.transform=\"translate(\"+nX_52360F06487A30+\"px,\"+nY_52360F06487A30+\"px)\";    }    function reset_joystick_52360F06487A30(e){        sw_52360F06487A30=false;        nX_52360F06487A30 = back_width_52360F06487A30/2 - stick_width_52360F06487A30/2;        nY_52360F06487A30 = back_height_52360F06487A30/2 - stick_height_52360F06487A30/2;        e.style.transform=\"translate(\"+nX_52360F06487A30+\"px,\"+nY_52360F06487A30+\"px)\"; sX_52360F06487A30=\"0\"; sY_52360F06487A30=\"0\"; sock_52360F06487A30.send(\"j,0,0\");    }    reset_joystick_52360F06487A30(stick_52360F06487A30); console.log(\"Loaded.\");</script>"
      ],
      "text/plain": [
       "<IPython.core.display.HTML object>"
      ]
     },
     "metadata": {},
     "output_type": "display_data"
    },
    {
     "data": {
      "text/html": [
       "<script>var list=document.getElementsByClassName(\"clickable_image_box\");for (var i=0; i<list.length; i++) {    list[i].onclick=function(e){\t\tvar x=e.offsetX/150-1;\t\tvar y=e.offsetY/150-1;\t\tsock_52360F06487A30.send(\"c,\"+x+\",\"+y);\t};}</script>"
      ],
      "text/plain": [
       "<IPython.core.display.HTML object>"
      ]
     },
     "metadata": {},
     "output_type": "display_data"
    }
   ],
   "source": [
    "# 라인트랙킹 데이터 수집 코드 입니다.\n",
    "from pop import Pilot\n",
    "\n",
    "# 데이터 수집\n",
    "cam = Pilot.Camera(width=300, height=300)\n",
    "\n",
    "dataCollector = Pilot.Data_Collector(Pilot.Track_Follow, camera=cam)\n",
    "dataCollector.show()"
   ]
  },
  {
   "cell_type": "code",
   "execution_count": null,
   "metadata": {},
   "outputs": [],
   "source": []
  }
 ],
 "metadata": {
  "kernelspec": {
   "display_name": "Python 3",
   "language": "python",
   "name": "python3"
  },
  "language_info": {
   "codemirror_mode": {
    "name": "ipython",
    "version": 3
   },
   "file_extension": ".py",
   "mimetype": "text/x-python",
   "name": "python",
   "nbconvert_exporter": "python",
   "pygments_lexer": "ipython3",
   "version": "3.6.9"
  }
 },
 "nbformat": 4,
 "nbformat_minor": 4
}
