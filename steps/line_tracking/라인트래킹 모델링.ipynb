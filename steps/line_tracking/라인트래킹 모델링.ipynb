{
 "cells": [
  {
   "cell_type": "code",
   "execution_count": null,
   "metadata": {},
   "outputs": [
    {
     "data": {
      "application/vnd.jupyter.widget-view+json": {
       "model_id": "233176cb4a1b46f0be3b93fe33a471ab",
       "version_major": 2,
       "version_minor": 0
      },
      "text/plain": [
       "Image(value=b'\\xff\\xd8\\xff\\xe0\\x00\\x10JFIF\\x00\\x01\\x01\\x00\\x00\\x01\\x00\\x01\\x00\\x00\\xff\\xdb\\x00C\\x00\\x02\\x01\\x0…"
      ]
     },
     "metadata": {},
     "output_type": "display_data"
    },
    {
     "name": "stdout",
     "output_type": "stream",
     "text": [
      "Model not found. Training a new model.\n"
     ]
    },
    {
     "data": {
      "application/vnd.jupyter.widget-view+json": {
       "model_id": "ccefd7ba71c04e0d833134eb44b384e5",
       "version_major": 2,
       "version_minor": 0
      },
      "text/plain": [
       "Label(value='Loading datasets...')"
      ]
     },
     "metadata": {},
     "output_type": "display_data"
    },
    {
     "data": {
      "application/vnd.jupyter.widget-view+json": {
       "model_id": "d216c5db5f24498897e110a841eea1ea",
       "version_major": 2,
       "version_minor": 0
      },
      "text/plain": [
       "Label(value='Creating a new model...')"
      ]
     },
     "metadata": {},
     "output_type": "display_data"
    },
    {
     "data": {
      "application/vnd.jupyter.widget-view+json": {
       "model_id": "c00028da6d5b4bc181b10034b6733133",
       "version_major": 2,
       "version_minor": 0
      },
      "text/plain": [
       "VBox(children=(HBox(children=(FloatProgress(value=0.0, description='Total'), Label(value='0%'))), HBox(childre…"
      ]
     },
     "metadata": {},
     "output_type": "display_data"
    },
    {
     "name": "stdout",
     "output_type": "stream",
     "text": [
      "0 step loss :  0.006584551183739677\n",
      "1 step loss :  0.0016364079407358077\n",
      "2 step loss :  0.0012926701663527637\n",
      "3 step loss :  0.0008760459738550708\n",
      "4 step loss :  0.0009116392348660156\n",
      "Save completed.\n",
      "Warning : This value is out of range -1.0 to 1.0. It was adjusted to maximum.\n",
      "Warning : This value is out of range -1.0 to 1.0. It was adjusted to maximum.\n"
     ]
    }
   ],
   "source": [
    "## 라인트랙킹만 작동 시키기  찐찐찐 마지막 코드 1/30!!!!!!!!!!!!!!!!\n",
    "## 작동 성공!!!!!!!\n",
    "## 3/13 데이터 추가 수집 후 모델링 다시 함. -> 라인트래킹 성공\n",
    "\n",
    "from pop import Pilot\n",
    "\n",
    "# 카메라 설정\n",
    "cam = Pilot.Camera(width=300, height=300)\n",
    "cam.show()\n",
    "\n",
    "# 트랙 팔로잉 모델 설정\n",
    "LF = Pilot.Track_Follow(camera=cam)\n",
    "\n",
    "# 모델 불러오기 또는 새로 학습\n",
    "model_path = \"line_tracer_0319.pth\"\n",
    "# try:\n",
    "#     LF.load_model(path=model_path)\n",
    "#     print(\"Model loaded successfully.\")\n",
    "# except:\n",
    "print(\"Model not found. Training a new model.\")\n",
    "LF.load_datasets()\n",
    "LF.train(times=5)\n",
    "LF.save_model(path=model_path)\n",
    "\n",
    "LF.run()\n",
    "    \n",
    "# 차량 설정\n",
    "Car = Pilot.AutoCar()\n",
    "Car.setSpeed(20)\n",
    "\n",
    "steering_correction = 0.05\n",
    "\n",
    "# 차량 제어 함수\n",
    "def drive(value):\n",
    "    Car.forward()\n",
    "    steer = value['x']\n",
    "    if steer > 1:\n",
    "        steer = 1\n",
    "    elif steer < -1:\n",
    "        steer = -1\n",
    "    Car.steering = steer * 1.5\n",
    "\n",
    "# 라인 트래킹 실행\n",
    "while True:\n",
    "    LF.run(callback=drive)"
   ]
  }
 ],
 "metadata": {
  "kernelspec": {
   "display_name": "Python 3",
   "language": "python",
   "name": "python3"
  },
  "language_info": {
   "codemirror_mode": {
    "name": "ipython",
    "version": 3
   },
   "file_extension": ".py",
   "mimetype": "text/x-python",
   "name": "python",
   "nbconvert_exporter": "python",
   "pygments_lexer": "ipython3",
   "version": "3.6.9"
  }
 },
 "nbformat": 4,
 "nbformat_minor": 4
}
