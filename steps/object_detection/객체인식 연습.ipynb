{
 "cells": [
  {
   "cell_type": "code",
   "execution_count": 1,
   "metadata": {},
   "outputs": [
    {
     "name": "stdout",
     "output_type": "stream",
     "text": [
      "index is not available.\n"
     ]
    }
   ],
   "source": [
    "# 객체가 인식되는지만 확인하기 위한 연습코드 \n",
    "from pop import Pilot \n",
    "\n",
    "cam = Pilot.Camera(width=300, height=300)\n",
    "ac = Pilot.AutoCar()\n",
    "OF = Pilot.Object_Follow(cam)\n",
    "OF.load_model() # 객체 인식 모델 불러오기 (\"ssd_mobilenet_v2_coco.engine\"를 자동으로 불러옴)\n",
    "\n",
    "# 84 book, 47 cup, 51 bowl (해당 인덱스들을 rc카가 인식하는지 확인)\n",
    "# while True:\n",
    "v3 = OF.detect(index='book')\n",
    "if v3:\n",
    "    ac.stop()\n",
    "else:\n",
    "    ac.forward()"
   ]
  },
  {
   "cell_type": "code",
   "execution_count": 2,
   "metadata": {},
   "outputs": [
    {
     "data": {
      "application/vnd.jupyter.widget-view+json": {
       "model_id": "95b1c38d0cec48dc9a4b6d13e2455808",
       "version_major": 2,
       "version_minor": 0
      },
      "text/plain": [
       "Image(value=b'', format='jpeg', height='300', width='300')"
      ]
     },
     "metadata": {},
     "output_type": "display_data"
    }
   ],
   "source": [
    "OF.show() # rc카가 보는 카메라 화면을 공유하여 확인 "
   ]
  }
 ],
 "metadata": {
  "kernelspec": {
   "display_name": "Python 3",
   "language": "python",
   "name": "python3"
  },
  "language_info": {
   "codemirror_mode": {
    "name": "ipython",
    "version": 3
   },
   "file_extension": ".py",
   "mimetype": "text/x-python",
   "name": "python",
   "nbconvert_exporter": "python",
   "pygments_lexer": "ipython3",
   "version": "3.6.9"
  }
 },
 "nbformat": 4,
 "nbformat_minor": 4
}
