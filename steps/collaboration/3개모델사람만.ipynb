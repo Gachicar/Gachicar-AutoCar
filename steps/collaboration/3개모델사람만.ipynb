{
 "cells": [
  {
   "cell_type": "code",
   "execution_count": 1,
   "metadata": {},
   "outputs": [
    {
     "name": "stdout",
     "output_type": "stream",
     "text": [
      "Load completed.\n"
     ]
    },
    {
     "data": {
      "application/vnd.jupyter.widget-view+json": {
       "model_id": "81df84808da04baf945b171fff6f8c74",
       "version_major": 2,
       "version_minor": 0
      },
      "text/plain": [
       "Image(value=b'', format='jpeg', height='300', width='300')"
      ]
     },
     "metadata": {},
     "output_type": "display_data"
    },
    {
     "data": {
      "application/vnd.jupyter.widget-view+json": {
       "model_id": "61b0c50e7bd1476b9fbd3091f830a865",
       "version_major": 2,
       "version_minor": 0
      },
      "text/plain": [
       "Image(value=b'', format='jpeg', height='300', width='300')"
      ]
     },
     "metadata": {},
     "output_type": "display_data"
    },
    {
     "data": {
      "application/vnd.jupyter.widget-view+json": {
       "model_id": "2de94b5f145f4dd4b8de904a56c399a3",
       "version_major": 2,
       "version_minor": 0
      },
      "text/plain": [
       "HBox(children=(Image(value=b'\\xff\\xd8\\xff\\xe0\\x00\\x10JFIF\\x00\\x01\\x01\\x00\\x00\\x01\\x00\\x01\\x00\\x00\\xff\\xdb\\x00C…"
      ]
     },
     "metadata": {},
     "output_type": "display_data"
    }
   ],
   "source": [
    "# 1.30미팅 후 라인 트랙킹 + 객체 인식 + 장애물 회피를 합친 코드 (사람만)\n",
    "# 2.22 수정 \n",
    "from pop import Pilot\n",
    "\n",
    "cam = Pilot.Camera(width=300, height=300)\n",
    "ac = Pilot.AutoCar()\n",
    "OF = Pilot.Object_Follow(cam)\n",
    "LF = Pilot.Track_Follow(camera=cam)\n",
    "CA = Pilot.Collision_Avoid(cam)\n",
    "\n",
    "# 저장된 모델 3개를 불러오기\n",
    "LF.load_model(\"line_tracer_0310_2.pth\") # 라인트래킹 모델 로드\n",
    "OF.load_model() # 객체 인식 모델 불러오기 (\"ssd_mobilenet_v2_coco.engine\"를 자동으로 불러옴)\n",
    "CA.load_model(\"collision_final.pth\") # 장애물 회피 모델 로드\n",
    "\n",
    "LF.show()\n",
    "OF.show()\n",
    "CA.show()\n",
    "\n",
    "LF.run()\n",
    "CA.run()\n",
    "\n",
    "ac.setSpeed(20)\n",
    "\n",
    "def drive(value, value2): # value는 라인 트래킹 value값, value2는 장애물 회피 value값\n",
    "    ac.forward()\n",
    "    steer = value['x']\n",
    "    steer * 1.5\n",
    "    \n",
    "    # 라인트랙킹을 위한 좌우 조정 (value를 사용)\n",
    "    if steer > 1:\n",
    "        steer = 1\n",
    "    elif steer < -1:\n",
    "        steer = -1\n",
    "    \n",
    "    ac.steering = steer * 1.5\n",
    "    \n",
    "    # 장애물 인식 후 후진하게 허는 코드(value2를 사용)\n",
    "    if value2 >= 0.5:    # 0.5 초과 시 후진\n",
    "        ac.backward()\n",
    "        \n",
    "try:\n",
    "    while True:# 의자, 사람, 우산 객체를 탐지하는 루프 \n",
    "        v = OF.detect(index='person')\n",
    "        if v:\n",
    "            ac.stop()\n",
    "        else:\n",
    "            value = LF.run()\n",
    "            value2 = CA.run()\n",
    "            drive(value, value2)\n",
    "except KeyboardInterrupt:\n",
    "    ac.stop() # 키보드로 진행 멈춤\n"
   ]
  },
  {
   "cell_type": "code",
   "execution_count": null,
   "metadata": {},
   "outputs": [],
   "source": []
  }
 ],
 "metadata": {
  "kernelspec": {
   "display_name": "Python 3",
   "language": "python",
   "name": "python3"
  },
  "language_info": {
   "codemirror_mode": {
    "name": "ipython",
    "version": 3
   },
   "file_extension": ".py",
   "mimetype": "text/x-python",
   "name": "python",
   "nbconvert_exporter": "python",
   "pygments_lexer": "ipython3",
   "version": "3.6.9"
  }
 },
 "nbformat": 4,
 "nbformat_minor": 4
}
