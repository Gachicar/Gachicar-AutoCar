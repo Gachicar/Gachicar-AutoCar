{
 "cells": [
  {
   "cell_type": "code",
   "execution_count": null,
   "metadata": {},
   "outputs": [
    {
     "name": "stdout",
     "output_type": "stream",
     "text": [
      "Load completed.\n"
     ]
    },
    {
     "data": {
      "application/vnd.jupyter.widget-view+json": {
       "model_id": "6d963efd7468480092adfa653016921b",
       "version_major": 2,
       "version_minor": 0
      },
      "text/plain": [
       "Image(value=b'', format='jpeg', height='300', width='300')"
      ]
     },
     "metadata": {},
     "output_type": "display_data"
    },
    {
     "data": {
      "application/vnd.jupyter.widget-view+json": {
       "model_id": "0f158a478906472bb4ca7b62941bc0e5",
       "version_major": 2,
       "version_minor": 0
      },
      "text/plain": [
       "Image(value=b'', format='jpeg', height='300', width='300')"
      ]
     },
     "metadata": {},
     "output_type": "display_data"
    }
   ],
   "source": [
    "# 객체 인식 코드와 라인트랙킹을 합친 코드 -> 올바르게 작동됨.\n",
    "from pop import Pilot\n",
    "\n",
    "cam = Pilot.Camera(width=300, height=300)\n",
    "ac = Pilot.AutoCar()\n",
    "OF = Pilot.Object_Follow(cam)\n",
    "LF = Pilot.Track_Follow(camera=cam)\n",
    "\n",
    "# 저장된 모델을 불러오기\n",
    "LF.load_model(\"23FinalLT.pth\") # 라인트레킹을 학습시킨 모델 불러오기 \n",
    "OF.load_model() # 객체 인식 모델 불러오기 (\"ssd_mobilenet_v2_coco.engine\"를 자동으로 불러옴)\n",
    "\n",
    "LF.show()\n",
    "OF.show()\n",
    "ac.setSpeed(30)\n",
    "\n",
    "def drive(value):\n",
    "    ac.forward()\n",
    "    steer = value['x']\n",
    "    \n",
    "    # 라인트랙킹을 위한 좌우 조정\n",
    "    if steer > 1:\n",
    "        steer = 1\n",
    "    elif steer < -1:\n",
    "        steer = -1\n",
    "    \n",
    "    ac.steering = steer * 1.5\n",
    "    \n",
    "try:\n",
    "    while True:# 의자, 사람, 우산 객체를 탐지하는 루프 \n",
    "         v = OF.detect(index='chair') \n",
    "        v2 = OF.detect(index='person')\n",
    "        v3 = OF.detect(index='umbrella')\n",
    "        if v or v2 or v3: # 의자, 사람, 우산 중 하나가 감지되면 멈춤.\n",
    "            ac.stop()\n",
    "        else:\n",
    "            # 세개 중 하나도 해당되는 것이 없으면 라인트랙킹 진행.\n",
    "            LF.run(callback=drive)\n",
    "except KeyboardInterrupt:\n",
    "    ac.stop() # 키보드로 진행 멈춤\n"
   ]
  },
  {
   "cell_type": "code",
   "execution_count": null,
   "metadata": {},
   "outputs": [],
   "source": []
  },
  {
   "cell_type": "code",
   "execution_count": null,
   "metadata": {},
   "outputs": [],
   "source": []
  }
 ],
 "metadata": {
  "kernelspec": {
   "display_name": "Python 3",
   "language": "python",
   "name": "python3"
  },
  "language_info": {
   "codemirror_mode": {
    "name": "ipython",
    "version": 3
   },
   "file_extension": ".py",
   "mimetype": "text/x-python",
   "name": "python",
   "nbconvert_exporter": "python",
   "pygments_lexer": "ipython3",
   "version": "3.6.9"
  }
 },
 "nbformat": 4,
 "nbformat_minor": 4
}
